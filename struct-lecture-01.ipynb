{
 "cells": [
  {
   "cell_type": "markdown",
   "metadata": {},
   "source": [
    "# Sequence and structure I: foundations and early work\n",
    "\n",
    "## Contact prediction from correlations\n",
    "\n",
    "Protein structure can affect function, and therefore the \"fitness\" or reproductive success of an organism. Evolution should therefore preserve (functionally important) structural features. \n",
    "\n",
    "Pairs of amino acids in close contact provide one example. If a mutation changes one of these residues, the other might also need to change to rescue function. If we look at widely diverged protein sequences, evidence for contact pairs should therefore appear in correlated substitutions at those sites.\n",
    "\n",
    "For more information, consider reviews by [Marks et al, Nature Biotechnology 2012](https://doi.org/10.1038/nbt.2419) or [Cocco et al, Reports on Progress in Physics 2018](https://doi.org/10.1088/1361-6633/aa9965).\n",
    "\n",
    "### Example: uncovering structure in trypsin inhibitor proteins\n",
    "\n",
    "To show how this works in practice, we'll examine a sequence alignment for trypsin inhibitor proteins ([protein family PF00014](https://www.ebi.ac.uk/interpro/entry/pfam/PF00014) in the PFAM database). Here is an example of the protein structure, taken from [PDB entry 5PTI](https://www.rcsb.org/structure/5PTI).\n",
    "\n",
    "![5PTI](data/5pti_structure.jpeg)\n",
    "\n",
    "We'll start by reading in the 5PTI PDB file using [BioPython](https://biopython.org/) and computing the pairwise distance between each pair of amino acids in the folded structure."
   ]
  },
  {
   "cell_type": "code",
   "execution_count": null,
   "metadata": {},
   "outputs": [],
   "source": [
    "# If we're running on Google colab, we need to install BioPython and \n",
    "# clone the repository\n",
    "try:\n",
    "    import google.colab\n",
    "    !pip install biopython\n",
    "    !git clone -l -s https://github.com/johnbarton/misc-lectures.git misc\n",
    "    %cd misc\n",
    "except ImportError:\n",
    "    pass"
   ]
  },
  {
   "cell_type": "code",
   "execution_count": null,
   "metadata": {},
   "outputs": [],
   "source": [
    "# First, let's import the libraries that we'll need\n",
    "from Bio import PDB              # BioPython for PDB files\n",
    "import matplotlib.pyplot as plt  # matplotlib for plots\n",
    "import numpy as np               # numpy for vectors/matrices and math\n",
    "import copy                      # for copying data structures by value\n",
    "import figs                      # a helper file for making figures"
   ]
  },
  {
   "cell_type": "code",
   "execution_count": null,
   "metadata": {},
   "outputs": [],
   "source": [
    "# This is a data structure that stores information from PDB files\n",
    "structure = PDB.PDBParser().get_structure('PF00014', 'data/pdb5pti.ent') \n",
    "\n",
    "# The structure is a bit complicated, but we just need a few elements\n",
    "# The code below extracts a list of amino acids (and their positions, etc)\n",
    "# from the PDB file\n",
    "model = structure[0]\n",
    "chain = model['A']\n",
    "residues = [r for r in chain if PDB.is_aa(r)]"
   ]
  },
  {
   "cell_type": "code",
   "execution_count": null,
   "metadata": {},
   "outputs": [],
   "source": [
    "# The sequence alignment we'll be using omits the first three sites\n",
    "# and the last two sites of the structure, so we should remove those\n",
    "residues = residues[3:-2]\n",
    "L = len(residues)\n",
    "\n",
    "print('The sequence is %d amino acids long' % L)"
   ]
  },
  {
   "cell_type": "code",
   "execution_count": null,
   "metadata": {},
   "outputs": [],
   "source": [
    "# Now we'll compute the LxL distance matrix for the remaining sites\n",
    "d_mat = np.zeros((L, L))\n",
    "for i in range(L):\n",
    "    for j in range(i+1, L):\n",
    "        # Getting the distance is easy, we just \"subtract\" the residues\n",
    "        # from each other, which returns a distance in Angstroms\n",
    "        # Here we use the carbon alpha atoms as a reference for distance\n",
    "        distance = residues[i]['CA'] - residues[j]['CA']\n",
    "        d_mat[i, j] = distance\n",
    "        d_mat[j, i] = distance"
   ]
  },
  {
   "cell_type": "markdown",
   "metadata": {},
   "source": [
    "### Setting our expectations\n",
    "\n",
    "Now that we have the distance matrix, we can set a threshold for the maximum distance between residues that we consider to be \"in contact.\" In this example, we'll use a distance of 8 Angstroms.\n",
    "\n",
    "To calibrate our expecations, let's check the accuracy of randomly choosing contact sites."
   ]
  },
  {
   "cell_type": "code",
   "execution_count": null,
   "metadata": {},
   "outputs": [],
   "source": [
    "# We'll make lists to hold the pairs of sites that we predict to be in contact\n",
    "# In this case, our predictor is random\n",
    "pred_pairs = []\n",
    "pred_vals = []\n",
    "for i in range(L):\n",
    "    for j in range(i+1, L):\n",
    "        pred_pairs.append((i, j))\n",
    "        pred_vals.append(np.random.rand())"
   ]
  },
  {
   "cell_type": "code",
   "execution_count": null,
   "metadata": {},
   "outputs": [],
   "source": [
    "# Before we make a plot, we need to define which residues are in contact\n",
    "contact_cutoff = 8\n",
    "contacts = []\n",
    "for i in range(L):\n",
    "    for j in range(i+1, L):\n",
    "        if d_mat[i, j]<contact_cutoff:\n",
    "            contacts.append((i, j))"
   ]
  },
  {
   "cell_type": "code",
   "execution_count": null,
   "metadata": {},
   "outputs": [],
   "source": [
    "# Now, we'll take the top 50 predictions and sort pairs of sites into \n",
    "# true positives (correctly predicted contact), false positives (incorrect),\n",
    "# and other contact sites -- to make it easier for later we'll write a function\n",
    "\n",
    "def get_contact_predictions(contacts, pred_vals, pred_pairs, n_predictions=50):\n",
    "    pred_sort = np.argsort(pred_vals)[::-1]\n",
    "    \n",
    "    true_positive = []\n",
    "    false_positive = []\n",
    "    for i in range(n_predictions):\n",
    "        pair = pred_pairs[pred_sort[i]]\n",
    "        if pair in contacts:\n",
    "            true_positive.append(pair)\n",
    "        else:\n",
    "            false_positive.append(pair)\n",
    "    \n",
    "    other_contacts = []\n",
    "    for pair in contacts:\n",
    "        if (pair not in true_positive) and (pair not in false_positive):\n",
    "            other_contacts.append(pair)\n",
    "\n",
    "    return true_positive, false_positive, other_contacts"
   ]
  },
  {
   "cell_type": "code",
   "execution_count": null,
   "metadata": {},
   "outputs": [],
   "source": [
    "# How good are random predictions? Let's check\n",
    "true_positive, false_positive, other_contacts = get_contact_predictions(contacts, pred_vals, pred_pairs)\n",
    "print('%d true positives, %d false positives in top %d predictions' \n",
    "      % (len(true_positive), len(false_positive), len(true_positive)+len(false_positive)))"
   ]
  },
  {
   "cell_type": "code",
   "execution_count": null,
   "metadata": {},
   "outputs": [],
   "source": [
    "# It's random, but most likely: _yikes_\n",
    "# Here's what the random contact plot looks like\n",
    "figs.contact_plot_PF00014(other_contacts, true_positive, false_positive)\n",
    "plt.show()"
   ]
  },
  {
   "cell_type": "code",
   "execution_count": null,
   "metadata": {},
   "outputs": [],
   "source": [
    "\n",
    "\n",
    "\n",
    "\n",
    "\n",
    "\n",
    "\n",
    "\n",
    "\n",
    "\n",
    "\n",
    "\n",
    "\n",
    "\n",
    "\n",
    "\n",
    "\n",
    "\n",
    "\n",
    "\n"
   ]
  },
  {
   "cell_type": "markdown",
   "metadata": {},
   "source": [
    "### Reading in the PF00014 alignment and computing correlations\n",
    "\n",
    "Surely, we can do better than randomly guessing contact pairs. \n",
    "\n",
    "Let's use amino acid covariation to try to predict contacts. To do this, we should read in an alignment of protein sequences from the same family ([PF00014](https://www.ebi.ac.uk/interpro/entry/pfam/PF00014)) and analyze them. In this case, we'll just use `numpy` and a little bit of Python directly to compute the correlations."
   ]
  },
  {
   "cell_type": "code",
   "execution_count": null,
   "metadata": {},
   "outputs": [],
   "source": [
    "# First we should include a list of amino acids\n",
    "# We'll use the position in this list to map amino acids to numerical values\n",
    "aas = ['A', 'R', 'N', 'D', 'C', 'Q', 'E', 'G', 'H', 'I',\n",
    "       'L', 'K', 'M', 'F', 'P', 'S', 'T', 'W', 'Y', 'V', '-']\n",
    "\n",
    "# Now we'll read in the sequences -- lines that start with '>' are labels,\n",
    "# and the rest are the sequences\n",
    "alignment = [list(i.split()[0]) for i in open('data/PF00014-alignment.fasta').readlines() if i[0]!='>']\n",
    "alignment = np.array(alignment)\n",
    "\n",
    "# Let's make sure that it looks right\n",
    "shape = alignment.shape\n",
    "print('Found %d sequences of length %d' % (shape[0], shape[1]))\n",
    "print('The first sequence is %s' % ''.join(alignment[0]))"
   ]
  },
  {
   "cell_type": "code",
   "execution_count": null,
   "metadata": {},
   "outputs": [],
   "source": [
    "# Now, let's transform the sequences from lists of amino acids to \n",
    "# one-hot encoded vectors (#AAs * #sites in length)\n",
    "num_aas = len(aas)\n",
    "num_seqs = shape[0]\n",
    "num_sites = shape[1]\n",
    "\n",
    "alignment_onehot = np.zeros((num_seqs, num_aas*num_sites))\n",
    "for i in range(num_seqs):\n",
    "    for j in range(num_sites):\n",
    "        alignment_onehot[i][(j*len(aas)) + aas.index(alignment[i][j])] = 1"
   ]
  },
  {
   "cell_type": "code",
   "execution_count": null,
   "metadata": {},
   "outputs": [],
   "source": [
    "# Use numpy to compute covariances between amino acids at different sites\n",
    "cov = np.cov(alignment_onehot.T)\n",
    "\n",
    "# Now we get the top predicted contacts, which will be the pairs of *sites*\n",
    "# where amino acids are most strongly covarying\n",
    "pred_pairs = []\n",
    "pred_vals = []\n",
    "for i in range(num_sites):\n",
    "    for j in range(i+1, num_sites):\n",
    "        pred_pairs.append((i, j))\n",
    "        # Take the submatrix of covariances between AAs at sites i and j,\n",
    "        # square them, and take the sum\n",
    "        pred_vals.append(np.sum(cov[num_aas*i:num_aas*(i+1), num_aas*j:num_aas*(j+1)]**2))"
   ]
  },
  {
   "cell_type": "markdown",
   "metadata": {},
   "source": [
    "### Predicting contacts from amino acid covariation\n",
    "\n",
    "If we are correct that important structural contacts can produce amino acid covariation, then the pairs of sites that exhibit the most covariation should be more likely to be in contact. Below, we'll test how well this works by using the squared covariances between pairs of sites as contact predictors."
   ]
  },
  {
   "cell_type": "code",
   "execution_count": null,
   "metadata": {},
   "outputs": [],
   "source": [
    "# How do these compare to random predictions?\n",
    "true_positive, false_positive, other_contacts = get_contact_predictions(contacts, pred_vals, pred_pairs)\n",
    "print('%d true positives, %d false positives in top %d predictions' \n",
    "      % (len(true_positive), len(false_positive), len(true_positive)+len(false_positive)))"
   ]
  },
  {
   "cell_type": "code",
   "execution_count": null,
   "metadata": {},
   "outputs": [],
   "source": [
    "# Much better! Let's look at the contact plot\n",
    "figs.contact_plot_PF00014(other_contacts, true_positive, false_positive)\n",
    "plt.show()"
   ]
  },
  {
   "cell_type": "code",
   "execution_count": null,
   "metadata": {},
   "outputs": [],
   "source": [
    "\n",
    "\n",
    "\n",
    "\n",
    "\n",
    "\n",
    "\n",
    "\n",
    "\n",
    "\n",
    "\n",
    "\n",
    "\n",
    "\n",
    "\n",
    "\n",
    "\n",
    "\n",
    "\n",
    "\n"
   ]
  },
  {
   "cell_type": "markdown",
   "metadata": {},
   "source": [
    "## Amino acid covariation and structure are not the same\n",
    "\n",
    "As we just discussed, not all structural features will show up in correlations, and not all correlations are due to structure. For example, contacts that have no effect on function are not targets of natural selection, and thus there will be no evolutionary pressure to preserve them over long times. On the other side, correlations can be generated by many sources that have nothing to do with protein structure.\n",
    "\n",
    "### Example: random correlations due to phylogeny\n",
    "\n",
    "One force that generates correlations without structural association is [phylogeny](https://en.wikipedia.org/wiki/Phylogenetic_tree), i.e., the shared evolutionary history between organisms. To see how this happens, we can run a simple simulation, inspired by [Qin and Colwell, PNAS 2018](https://doi.org/10.1073/pnas.1711913115).\n",
    "\n",
    "We'll begin with an artificial sequence with $L=100$ sites. We'll then introduce $m=5$ random mutations in the sequence before a branching event. At the branch, we'll make two copies of the sequence, which will then evolve independently, gaining $m$ mutations before they branch again, and so on. We'll allow the simulation to branch 14 times, generating $2^{14} = 16384$ sequences at the end. Then, from a random subsample of 1000 of these sequences, we'll compute the correlations between variation at each site and plot them."
   ]
  },
  {
   "cell_type": "code",
   "execution_count": null,
   "metadata": {},
   "outputs": [],
   "source": [
    "# Set out the amino acids and sites in the artificial protein\n",
    "aas = ['A', 'R', 'N', 'D', 'C', 'Q', 'E', 'G', 'H', 'I',\n",
    "       'L', 'K', 'M', 'F', 'P', 'S', 'T', 'W', 'Y', 'V']\n",
    "num_aas = len(aas)\n",
    "num_sites = 100\n",
    "\n",
    "# Generate a random starting sequence\n",
    "starting_seq = np.random.choice(aas, size=num_sites)"
   ]
  },
  {
   "cell_type": "code",
   "execution_count": null,
   "metadata": {},
   "outputs": [],
   "source": [
    "# Set the simulation parameters, including the branch length and number of branches\n",
    "branch_length = 5\n",
    "n_branches = 14\n",
    "\n",
    "# Run the simulation and record the sequences\n",
    "alignment = [starting_seq]\n",
    "for n in range(n_branches):\n",
    "    # Duplicate the sequences\n",
    "    alignment += copy.deepcopy(alignment)\n",
    "    # Evolve each sequence\n",
    "    for i in range(len(alignment)):\n",
    "        rand_sites = np.random.choice(num_sites, size=branch_length)\n",
    "        rand_aas = np.random.choice(aas, size=branch_length)\n",
    "        for j in range(branch_length):\n",
    "            alignment[i][rand_sites[j]] = rand_aas[j]"
   ]
  },
  {
   "cell_type": "code",
   "execution_count": null,
   "metadata": {},
   "outputs": [],
   "source": [
    "# Choose a random subset of sequences for analysis\n",
    "n_subset = 1000\n",
    "random_seqs = [alignment[i] for i in np.random.choice(len(alignment), size=n_subset)]"
   ]
  },
  {
   "cell_type": "code",
   "execution_count": null,
   "metadata": {},
   "outputs": [],
   "source": [
    "# Now we'll use one-hot encoding to compute the correlations\n",
    "random_seqs = np.array([list(s) for s in random_seqs])\n",
    "shape = random_seqs.shape\n",
    "num_seqs = shape[0]\n",
    "num_sites = shape[1]\n",
    "\n",
    "alignment_onehot = np.zeros((num_seqs, num_aas*num_sites))\n",
    "for i in range(num_seqs):\n",
    "    for j in range(num_sites):\n",
    "        alignment_onehot[i][(j*len(aas)) + aas.index(random_seqs[i][j])] = 1"
   ]
  },
  {
   "cell_type": "code",
   "execution_count": null,
   "metadata": {},
   "outputs": [],
   "source": [
    "# Use numpy to compute covariances between amino acids at different sites\n",
    "cov = np.cov(alignment_onehot.T)\n",
    "\n",
    "# And then compute the matrix of correlations between pairs of sites\n",
    "corrs = np.zeros((num_sites, num_sites))\n",
    "for i in range(num_sites):\n",
    "    for j in range(i+1, num_sites):\n",
    "        c = np.sum(cov[num_aas*i:num_aas*(i+1), num_aas*j:num_aas*(j+1)]**2)\n",
    "        corrs[i, j] = c\n",
    "        corrs[j, i] = c"
   ]
  },
  {
   "cell_type": "code",
   "execution_count": null,
   "metadata": {},
   "outputs": [],
   "source": [
    "# Finally, let's plot the correlations\n",
    "fig, ax = plt.subplots(figsize=(5, 5))\n",
    "im = ax.imshow(corrs, origin='lower')\n",
    "plt.xlabel('Sites')\n",
    "plt.ylabel('Sites')\n",
    "plt.show()"
   ]
  },
  {
   "cell_type": "code",
   "execution_count": null,
   "metadata": {},
   "outputs": [],
   "source": [
    "# It looks like there's structure! \n",
    "# Are there some correlations that are really outliers? Yes.\n",
    "corr_upperdiag = [corrs[i][j] for i in range(num_sites) for j in range(i+1, num_sites)]\n",
    "plt.hist(corr_upperdiag)\n",
    "plt.yscale('log')\n",
    "plt.xlabel('Correlations')\n",
    "plt.ylabel('Counts (log)')\n",
    "plt.show()"
   ]
  },
  {
   "cell_type": "code",
   "execution_count": null,
   "metadata": {},
   "outputs": [],
   "source": [
    "\n",
    "\n",
    "\n",
    "\n",
    "\n",
    "\n",
    "\n",
    "\n",
    "\n",
    "\n",
    "\n",
    "\n",
    "\n",
    "\n",
    "\n",
    "\n",
    "\n",
    "\n",
    "\n",
    "\n",
    "\n",
    "\n"
   ]
  }
 ],
 "metadata": {
  "kernelspec": {
   "display_name": "Python 3 (ipykernel)",
   "language": "python",
   "name": "python3"
  },
  "language_info": {
   "codemirror_mode": {
    "name": "ipython",
    "version": 3
   },
   "file_extension": ".py",
   "mimetype": "text/x-python",
   "name": "python",
   "nbconvert_exporter": "python",
   "pygments_lexer": "ipython3",
   "version": "3.10.14"
  },
  "toc": {
   "base_numbering": 1,
   "nav_menu": {},
   "number_sections": true,
   "sideBar": true,
   "skip_h1_title": false,
   "title_cell": "Table of Contents",
   "title_sidebar": "Contents",
   "toc_cell": false,
   "toc_position": {},
   "toc_section_display": true,
   "toc_window_display": false
  }
 },
 "nbformat": 4,
 "nbformat_minor": 4
}
