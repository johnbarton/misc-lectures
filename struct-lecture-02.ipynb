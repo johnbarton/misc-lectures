{
 "cells": [
  {
   "cell_type": "markdown",
   "metadata": {},
   "source": [
    "# Sequence and structure II: modern approaches\n",
    "\n",
    "## Contact prediction from \"direct interactions\"\n",
    "\n",
    "In the last lecture, we saw that structural constraints on proteins can be reflected in correlated amino acid sequence variation. In particular, pairs of sites in contact in the three-dimensional structure of the protein can (sometimes) be distinguished by amino acid covariation at those sites.\n",
    "\n",
    "However, we also saw that other factors can lead to correlations between amino acids at pairs of sites. One reason for this is [phylogeny](https://doi.org/10.1073/pnas.1711913115). Another is indirect interactions. In general, if pairs of sites (A, B) and (B, C) interact, we will observe correlations not just between (A, B) and (B, C), but also (A, C). It can be challenging to tell which interactions are direct and which ones are indirect.\n",
    "\n",
    "[Lapedes et al, 1999](https://www.jstor.org/stable/4356049) and, independently, [Weigt et al, PNAS 2009](https://doi.org/10.1073/pnas.0805923106) attempted to solve the indirect interaction problem by inferring the parameters of a generative sequence model including pairwise interactions that best reproduce correlations in the data. In this model, the probability of an amino acid sequence $(a_1, a_2, \\ldots, a_L)$ is \n",
    "\n",
    "$$\n",
    "P(a_1, a_2, \\ldots, a_L) \\propto \\exp\\left(\\sum_i h_i(a_i) + \\sum_{i, j}J_{ij}(a_i, a_j)\\right)\\,.\n",
    "$$\n",
    "\n",
    "In an ensemble of sequences sampled from this distribution, *couplings* $J_{ij}(a_i, a_j)$ will induce correlations between amino acid variation at sites $i$ and $j$. Other sites that interact with $i$ and $j$ will also be correlated due to indirect interactions. If we can find them, the $J_{ij}(a_i, a_j)$ may represent direct interactions better than correlations.\n",
    "\n",
    "\n",
    "### A simple, approximate solution for inferring direct interactions\n",
    "\n",
    "In general, finding the maximum likelihood parameters $h_i(a_i)$ and $J_{ij}(a_i, a_j)$ for a particular data set is computationally intensive.\n",
    "\n",
    "However, we can make a simple approximation. If the sequence variables $(a_1, a_2, \\ldots, a_L)$ were real-valued, then they would follow a Gaussian distribution. For a Gaussian distribution, the \"interactions\" $J_{ij}(a_i, a_j)$ will be elements of the inverse of the covariance matrix for amino acid frequencies across sites,\n",
    "\n",
    "$$\n",
    "C_{ij}(a_i, a_j) = p_{ij}(a_i, a_j) - p_i(a_i) p_j(a_j)\\,,\n",
    "$$\n",
    "\n",
    "where $p_i(a_i)$ is the fraction of sequences with amino acid $a_i$ at site $i$, and $p_{ij}(a_i, a_j)$ is the fraction of sequences with amino acids $a_i$, $a_j$ at sites $i$, $j$. This is, of course, kind of a wild approximation, but it works reasonably well in practice (for inferring interactions -- the resulting generative model is *terrible*).\n",
    "\n",
    "\n",
    "### Example: revisiting structure in trypsin inhibitor proteins\n",
    "\n",
    "To show the association between \"direct interactions\" and structure, let's return to the example of the trypsin inhibitor proteins ([protein family PF00014](https://www.ebi.ac.uk/interpro/entry/pfam/PF00014) in PFAM). Like last time, we'll load in the [PDB file](https://www.rcsb.org/structure/5PTI) and compute the pairwise distances between sites. Then we'll attempt to find pairs of sites that are in contact."
   ]
  },
  {
   "cell_type": "code",
   "execution_count": null,
   "metadata": {},
   "outputs": [],
   "source": [
    "# If we're running on Google colab, we need to install BioPython and \n",
    "# clone the repository\n",
    "try:\n",
    "    import google.colab\n",
    "    !pip install biopython\n",
    "    !git clone -l -s https://github.com/johnbarton/misc-lectures.git misc\n",
    "    %cd misc\n",
    "except ImportError:\n",
    "    pass"
   ]
  },
  {
   "cell_type": "code",
   "execution_count": null,
   "metadata": {},
   "outputs": [],
   "source": [
    "# First, let's import the libraries that we'll need\n",
    "from Bio import PDB              # BioPython for PDB files\n",
    "import matplotlib.pyplot as plt  # matplotlib for plots\n",
    "import numpy as np               # numpy for vectors/matrices and math\n",
    "import figs                      # a helper file for making figures"
   ]
  },
  {
   "cell_type": "code",
   "execution_count": null,
   "metadata": {},
   "outputs": [],
   "source": [
    "# This is a data structure that stores information from PDB files\n",
    "structure = PDB.PDBParser().get_structure('PF00014', 'data/pdb5pti.ent') \n",
    "\n",
    "# The structure is a bit complicated, but we just need a few elements\n",
    "# The code below extracts a list of amino acids (and their positions, etc)\n",
    "# from the PDB file\n",
    "model = structure[0]\n",
    "chain = model['A']\n",
    "residues = [r for r in chain if PDB.is_aa(r)]"
   ]
  },
  {
   "cell_type": "code",
   "execution_count": null,
   "metadata": {},
   "outputs": [],
   "source": [
    "# The sequence alignment we'll be using omits the first three sites\n",
    "# and the last two sites of the structure, so we should remove those\n",
    "residues = residues[3:-2]\n",
    "L = len(residues)\n",
    "\n",
    "print('The sequence is %d amino acids long' % L)"
   ]
  },
  {
   "cell_type": "code",
   "execution_count": null,
   "metadata": {},
   "outputs": [],
   "source": [
    "# Now we'll compute the LxL distance matrix for the remaining sites\n",
    "d_mat = np.zeros((L, L))\n",
    "for i in range(L):\n",
    "    for j in range(i+1, L):\n",
    "        # Getting the distance is easy, we just \"subtract\" the residues\n",
    "        # from each other, which returns a distance in Angstroms\n",
    "        # Here we use the carbon alpha atoms as a reference for distance\n",
    "        distance = residues[i]['CA'] - residues[j]['CA']\n",
    "        d_mat[i, j] = distance\n",
    "        d_mat[j, i] = distance"
   ]
  },
  {
   "cell_type": "markdown",
   "metadata": {},
   "source": [
    "### Interactions from correlations\n",
    "\n",
    "After defining residues that are less than 8 Angstroms apart as \"in contact,\" we'll again check the accuracy of correlations in identifying nearby residues."
   ]
  },
  {
   "cell_type": "code",
   "execution_count": null,
   "metadata": {},
   "outputs": [],
   "source": [
    "# Before we make a plot, we need to define which residues are in contact\n",
    "contact_cutoff = 8\n",
    "contacts = []\n",
    "for i in range(L):\n",
    "    for j in range(i+1, L):\n",
    "        if d_mat[i, j]<contact_cutoff:\n",
    "            contacts.append((i, j))"
   ]
  },
  {
   "cell_type": "code",
   "execution_count": null,
   "metadata": {},
   "outputs": [],
   "source": [
    "# Define the amino acid list, which we use to map sequences to numerical values\n",
    "aas = ['A', 'R', 'N', 'D', 'C', 'Q', 'E', 'G', 'H', 'I',\n",
    "       'L', 'K', 'M', 'F', 'P', 'S', 'T', 'W', 'Y', 'V', '-']\n",
    "\n",
    "# Now we'll read in the sequences -- lines that start with '>' are labels,\n",
    "# and the rest are the sequences\n",
    "alignment = [list(i.split()[0]) for i in open('data/PF00014-alignment.fasta').readlines() if i[0]!='>']\n",
    "alignment = np.array(alignment)\n",
    "\n",
    "# Let's make sure that it looks right\n",
    "shape = alignment.shape\n",
    "print('Found %d sequences of length %d' % (shape[0], shape[1]))\n",
    "print('The first sequence is %s' % ''.join(alignment[0]))"
   ]
  },
  {
   "cell_type": "code",
   "execution_count": null,
   "metadata": {},
   "outputs": [],
   "source": [
    "# Transform the sequences into one-hot encoded vectors (#AAs * #sites in length)\n",
    "num_aas = len(aas)\n",
    "num_seqs = shape[0]\n",
    "num_sites = shape[1]\n",
    "\n",
    "alignment_onehot = np.zeros((num_seqs, num_aas*num_sites))\n",
    "for i in range(num_seqs):\n",
    "    for j in range(num_sites):\n",
    "        alignment_onehot[i][(j*len(aas)) + aas.index(alignment[i][j])] = 1"
   ]
  },
  {
   "cell_type": "code",
   "execution_count": null,
   "metadata": {},
   "outputs": [],
   "source": [
    "# Use numpy to compute covariances between amino acids at different sites\n",
    "cov = np.cov(alignment_onehot.T)\n",
    "\n",
    "# Get the top predicted contacts, measured by amino acid covariance between sites\n",
    "pred_pairs = []\n",
    "pred_vals = []\n",
    "for i in range(num_sites):\n",
    "    for j in range(i+1, num_sites):\n",
    "        pred_pairs.append((i, j))\n",
    "        # Take the submatrix of covariances between AAs at sites i and j,\n",
    "        # square them, and take the sum\n",
    "        pred_vals.append(np.sum(cov[num_aas*i:num_aas*(i+1), num_aas*j:num_aas*(j+1)]**2))"
   ]
  },
  {
   "cell_type": "code",
   "execution_count": null,
   "metadata": {},
   "outputs": [],
   "source": [
    "# Now, we'll take the top 50 predictions and sort pairs of sites into \n",
    "# true positives (correctly predicted contact), false positives (incorrect),\n",
    "# and other contact sites -- to make it easier for later we'll write a function\n",
    "\n",
    "def get_contact_predictions(contacts, pred_vals, pred_pairs, n_predictions=50):\n",
    "    pred_sort = np.argsort(pred_vals)[::-1]\n",
    "    \n",
    "    true_positive = []\n",
    "    false_positive = []\n",
    "    for i in range(n_predictions):\n",
    "        pair = pred_pairs[pred_sort[i]]\n",
    "        if pair in contacts:\n",
    "            true_positive.append(pair)\n",
    "        else:\n",
    "            false_positive.append(pair)\n",
    "    \n",
    "    other_contacts = []\n",
    "    for pair in contacts:\n",
    "        if (pair not in true_positive) and (pair not in false_positive):\n",
    "            other_contacts.append(pair)\n",
    "\n",
    "    return true_positive, false_positive, other_contacts"
   ]
  },
  {
   "cell_type": "code",
   "execution_count": null,
   "metadata": {},
   "outputs": [],
   "source": [
    "# How good are predictions from correlations?\n",
    "true_positive, false_positive, other_contacts = get_contact_predictions(contacts, pred_vals, pred_pairs)\n",
    "print('%d true positives, %d false positives in top %d predictions' \n",
    "      % (len(true_positive), len(false_positive), len(true_positive)+len(false_positive)))"
   ]
  },
  {
   "cell_type": "code",
   "execution_count": null,
   "metadata": {},
   "outputs": [],
   "source": [
    "# Here is the contact prediction plot based on correlations\n",
    "figs.contact_plot_PF00014(other_contacts, true_positive, false_positive)\n",
    "plt.show()"
   ]
  },
  {
   "cell_type": "code",
   "execution_count": null,
   "metadata": {},
   "outputs": [],
   "source": [
    "\n",
    "\n",
    "\n",
    "\n",
    "\n",
    "\n",
    "\n",
    "\n",
    "\n",
    "\n",
    "\n",
    "\n",
    "\n",
    "\n",
    "\n",
    "\n",
    "\n",
    "\n",
    "\n",
    "\n",
    "\n",
    "\n"
   ]
  },
  {
   "cell_type": "markdown",
   "metadata": {},
   "source": [
    "### Predicting contacts from couplings with the Gaussian approximation\n",
    "\n",
    "Above, we saw that a simple way to find approximate couplings $J_{ij}(a_i, a_j)$ for the model \n",
    "\n",
    "$$\n",
    "P(a_1, a_2, \\ldots, a_L) \\propto \\exp\\left(\\sum_i h_i(a_i) + \\sum_{i, j}J_{ij}(a_i, a_j)\\right)\n",
    "$$\n",
    "\n",
    "is to assume that the amino acid variables are real-valued. In this case, the distribution is Gaussian, and the interactions are given by the elements of the inverse of the covariance matrix of amino acid frequencies.\n",
    "\n",
    "We've already computed the covariance matrix in the previous section. We can simply take its inverse to test how well the (approximate) couplings $J_{ij}(a_i, a_j)$ predict contact sites."
   ]
  },
  {
   "cell_type": "code",
   "execution_count": null,
   "metadata": {},
   "outputs": [],
   "source": [
    "# Compute the inverse of the covariance matrix, with small regularization so that the\n",
    "# matrix is invertible\n",
    "icov = np.linalg.inv(np.cov(alignment_onehot.T) + 0.05*np.identity(num_aas * num_sites))\n",
    "\n",
    "# Predict contact sites based on the large entries of icov\n",
    "pred_pairs = []\n",
    "pred_vals = []\n",
    "for i in range(num_sites):\n",
    "    for j in range(i+1, num_sites):\n",
    "        pred_pairs.append((i, j))\n",
    "        # Take the submatrix of covariances between AAs at sites i and j,\n",
    "        # square them, and take the sum\n",
    "        pred_vals.append(np.sum(icov[num_aas*i:num_aas*(i+1), num_aas*j:num_aas*(j+1)]**2))"
   ]
  },
  {
   "cell_type": "code",
   "execution_count": null,
   "metadata": {},
   "outputs": [],
   "source": [
    "# How do these compare to predictions from correlations?\n",
    "true_positive, false_positive, other_contacts = get_contact_predictions(contacts, pred_vals, pred_pairs)\n",
    "print('%d true positives, %d false positives in top %d predictions' \n",
    "      % (len(true_positive), len(false_positive), len(true_positive)+len(false_positive)))"
   ]
  },
  {
   "cell_type": "code",
   "execution_count": null,
   "metadata": {},
   "outputs": [],
   "source": [
    "# That's a lot better. Here is the contact plot:\n",
    "figs.contact_plot_PF00014(other_contacts, true_positive, false_positive)\n",
    "plt.show()"
   ]
  },
  {
   "cell_type": "code",
   "execution_count": null,
   "metadata": {},
   "outputs": [],
   "source": [
    "\n",
    "\n",
    "\n",
    "\n",
    "\n",
    "\n",
    "\n",
    "\n",
    "\n",
    "\n",
    "\n",
    "\n",
    "\n",
    "\n",
    "\n",
    "\n",
    "\n",
    "\n",
    "\n",
    "\n",
    "\n",
    "\n"
   ]
  }
 ],
 "metadata": {
  "kernelspec": {
   "display_name": "Python 3 (ipykernel)",
   "language": "python",
   "name": "python3"
  },
  "language_info": {
   "codemirror_mode": {
    "name": "ipython",
    "version": 3
   },
   "file_extension": ".py",
   "mimetype": "text/x-python",
   "name": "python",
   "nbconvert_exporter": "python",
   "pygments_lexer": "ipython3",
   "version": "3.10.14"
  },
  "toc": {
   "base_numbering": 1,
   "nav_menu": {},
   "number_sections": true,
   "sideBar": true,
   "skip_h1_title": false,
   "title_cell": "Table of Contents",
   "title_sidebar": "Contents",
   "toc_cell": false,
   "toc_position": {},
   "toc_section_display": true,
   "toc_window_display": false
  }
 },
 "nbformat": 4,
 "nbformat_minor": 4
}
